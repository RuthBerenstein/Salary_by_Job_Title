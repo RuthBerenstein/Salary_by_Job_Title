{
 "cells": [
  {
   "cell_type": "markdown",
   "metadata": {},
   "source": [
    "\n",
    "# <center>  $ Machine\\; Learning\\; Regression \\;assignment $ <br> $ * \\; Predicting \\;employees \\;salary \\;based\\; on \\;Job \\;Title \\;only\\; * $ \n",
    "    \n",
    "## <center> <span style=\"color:steelblue\"> $ Implementing \\; ML \\; Models: \\; Linear \\; Regression \\;/ \\;Random \\; Forest /\\; Xgboost \\; $ </span> <br><br> ~~~~~~~~~~~~~~~~~~~~~~~~~~~~~~~~~~~~~~~~~~~~~~~~~~~~~~~~~~~~~~~~~~~~~~~~~~~~~~~~~~~~~~~~~~~~~~~~~~~~~~~~~~~~~~~~~~~~~~~~~~~~~~~~~~~~~~~~~~~~~~~~~~~~~~~~~~~~~~~~~~~~~~~~~~~~~~~~~~~~~~~~~~~~~~~~~~~~~~~~~~~~~~~~~~~~~~~~~~~~~~~~~~~~~~~~~~~~~~~~~~~~~~~~~~~~~~~~~~~~~~~~~~~~~~~~~~~~~~~~~~~~~~~~~~~~~~~~~~~~~~~~~~~~~~~~~~~"
   ]
  },
  {
   "cell_type": "code",
   "execution_count": 197,
   "metadata": {
    "colab": {},
    "colab_type": "code",
    "id": "WvNXWHwzAnoL"
   },
   "outputs": [],
   "source": [
    "import numpy as np\n",
    "import pandas as pd\n",
    "import os\n",
    "pd.options.display.precision = 4\n",
    "import seaborn as sns\n",
    "\n",
    "import matplotlib.pyplot as plt\n",
    "%matplotlib inline\n",
    "import warnings\n",
    "warnings.filterwarnings(\"ignore\")"
   ]
  },
  {
   "cell_type": "markdown",
   "metadata": {
    "colab": {
     "base_uri": "https://localhost:8080/",
     "height": 131,
     "resources": {
      "http://localhost:8080/nbextensions/google.colab/files.js": {
       "data": "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",
       "headers": [
        [
         "content-type",
         "application/javascript"
        ]
       ],
       "ok": true,
       "status": 200,
       "status_text": ""
      }
     }
    },
    "colab_type": "code",
    "executionInfo": {
     "elapsed": 282703,
     "status": "ok",
     "timestamp": 1568269010634,
     "user": {
      "displayName": "rutha603",
      "photoUrl": "https://lh3.googleusercontent.com/a-/AAuE7mClCHbpMOaN33-_syd5guJO-Fjv4UUwHKXGLqm1JQ=s64",
      "userId": "02739118661767309867"
     },
     "user_tz": -180
    },
    "id": "C71plilSCYNr",
    "outputId": "931c2eae-89a0-4496-ee0f-1cec545cc72f"
   },
   "source": [
    "### &#128218; $ Task \\; Dataset \\; from:  $ \n",
    "### https://catalog.data.gov/dataset/annual-salary-2010-thru-2013-fda95\n",
    "### State of Washington - Employees Annual Salary 2010 thru 2013\n",
    "<br>"
   ]
  },
  {
   "cell_type": "markdown",
   "metadata": {
    "colab": {
     "base_uri": "https://localhost:8080/",
     "height": 54
    },
    "colab_type": "code",
    "executionInfo": {
     "elapsed": 4209,
     "status": "ok",
     "timestamp": 1568270015425,
     "user": {
      "displayName": "rutha603",
      "photoUrl": "https://lh3.googleusercontent.com/a-/AAuE7mClCHbpMOaN33-_syd5guJO-Fjv4UUwHKXGLqm1JQ=s64",
      "userId": "02739118661767309867"
     },
     "user_tz": -180
    },
    "id": "V5kOmntrDR4x",
    "outputId": "09ec209b-14c6-431c-f767-93cb134af838"
   },
   "source": [
    "# $  Data \\; collection \\; and \\; EDA  $  &#128373;"
   ]
  },
  {
   "cell_type": "code",
   "execution_count": 129,
   "metadata": {
    "colab": {
     "base_uri": "https://localhost:8080/",
     "height": 308
    },
    "colab_type": "code",
    "executionInfo": {
     "elapsed": 1147,
     "status": "ok",
     "timestamp": 1568276141622,
     "user": {
      "displayName": "rutha603",
      "photoUrl": "https://lh3.googleusercontent.com/a-/AAuE7mClCHbpMOaN33-_syd5guJO-Fjv4UUwHKXGLqm1JQ=s64",
      "userId": "02739118661767309867"
     },
     "user_tz": -180
    },
    "id": "ZWIziHJcLZHj",
    "outputId": "cbc020b9-a439-410a-e95d-0a82d6d65063"
   },
   "outputs": [
    {
     "data": {
      "text/html": [
       "<div>\n",
       "<style scoped>\n",
       "    .dataframe tbody tr th:only-of-type {\n",
       "        vertical-align: middle;\n",
       "    }\n",
       "\n",
       "    .dataframe tbody tr th {\n",
       "        vertical-align: top;\n",
       "    }\n",
       "\n",
       "    .dataframe thead th {\n",
       "        text-align: right;\n",
       "    }\n",
       "</style>\n",
       "<table border=\"1\" class=\"dataframe\">\n",
       "  <thead>\n",
       "    <tr style=\"text-align: right;\">\n",
       "      <th></th>\n",
       "      <th>Agency</th>\n",
       "      <th>AgencyTitle</th>\n",
       "      <th>EmployeeName</th>\n",
       "      <th>JobTitle</th>\n",
       "      <th>Salary2010</th>\n",
       "      <th>Salary2011</th>\n",
       "      <th>Salary2012</th>\n",
       "      <th>Salary2013</th>\n",
       "    </tr>\n",
       "  </thead>\n",
       "  <tbody>\n",
       "    <tr>\n",
       "      <th>0</th>\n",
       "      <td>165</td>\n",
       "      <td>Accountancy</td>\n",
       "      <td>ASMATH, MOSAR</td>\n",
       "      <td>FORMS &amp; RECORDS ANALYST 2</td>\n",
       "      <td>0</td>\n",
       "      <td>0</td>\n",
       "      <td>0</td>\n",
       "      <td>32272</td>\n",
       "    </tr>\n",
       "    <tr>\n",
       "      <th>1</th>\n",
       "      <td>165</td>\n",
       "      <td>Accountancy</td>\n",
       "      <td>AUBREY, DONALD F</td>\n",
       "      <td>BOARD MEMBER</td>\n",
       "      <td>0</td>\n",
       "      <td>950</td>\n",
       "      <td>1450</td>\n",
       "      <td>0</td>\n",
       "    </tr>\n",
       "    <tr>\n",
       "      <th>2</th>\n",
       "      <td>165</td>\n",
       "      <td>Accountancy</td>\n",
       "      <td>BREN, DIANE MARIE</td>\n",
       "      <td>WMS BAND 3</td>\n",
       "      <td>15004</td>\n",
       "      <td>0</td>\n",
       "      <td>0</td>\n",
       "      <td>0</td>\n",
       "    </tr>\n",
       "    <tr>\n",
       "      <th>3</th>\n",
       "      <td>165</td>\n",
       "      <td>Accountancy</td>\n",
       "      <td>CLARK, ROBIN</td>\n",
       "      <td>BOARD MEMBER</td>\n",
       "      <td>550</td>\n",
       "      <td>0</td>\n",
       "      <td>0</td>\n",
       "      <td>0</td>\n",
       "    </tr>\n",
       "    <tr>\n",
       "      <th>4</th>\n",
       "      <td>165</td>\n",
       "      <td>Accountancy</td>\n",
       "      <td>DONOVAN, KIRSTEN M</td>\n",
       "      <td>ADMINISTRATIVE TRAINEE 3</td>\n",
       "      <td>0</td>\n",
       "      <td>0</td>\n",
       "      <td>0</td>\n",
       "      <td>15182</td>\n",
       "    </tr>\n",
       "  </tbody>\n",
       "</table>\n",
       "</div>"
      ],
      "text/plain": [
       "   Agency  AgencyTitle        EmployeeName                   JobTitle  \\\n",
       "0     165  Accountancy       ASMATH, MOSAR  FORMS & RECORDS ANALYST 2   \n",
       "1     165  Accountancy    AUBREY, DONALD F               BOARD MEMBER   \n",
       "2     165  Accountancy   BREN, DIANE MARIE                 WMS BAND 3   \n",
       "3     165  Accountancy        CLARK, ROBIN               BOARD MEMBER   \n",
       "4     165  Accountancy  DONOVAN, KIRSTEN M   ADMINISTRATIVE TRAINEE 3   \n",
       "\n",
       "   Salary2010  Salary2011  Salary2012  Salary2013  \n",
       "0           0           0           0       32272  \n",
       "1           0         950        1450           0  \n",
       "2       15004           0           0           0  \n",
       "3         550           0           0           0  \n",
       "4           0           0           0       15182  "
      ]
     },
     "execution_count": 129,
     "metadata": {},
     "output_type": "execute_result"
    }
   ],
   "source": [
    "df=pd.read_csv('Annual_Salary_2010_thru_2013.csv')\n",
    "df.head()"
   ]
  },
  {
   "cell_type": "code",
   "execution_count": 130,
   "metadata": {},
   "outputs": [
    {
     "data": {
      "text/plain": [
       "339763"
      ]
     },
     "execution_count": 130,
     "metadata": {},
     "output_type": "execute_result"
    }
   ],
   "source": [
    "# Dataset size\n",
    "df.shape[0]"
   ]
  },
  {
   "cell_type": "code",
   "execution_count": 131,
   "metadata": {},
   "outputs": [
    {
     "data": {
      "text/plain": [
       "Index(['Agency', 'AgencyTitle', 'EmployeeName', 'JobTitle', 'Salary2010',\n",
       "       'Salary2011', 'Salary2012', 'Salary2013'],\n",
       "      dtype='object')"
      ]
     },
     "execution_count": 131,
     "metadata": {},
     "output_type": "execute_result"
    }
   ],
   "source": [
    "df.columns"
   ]
  },
  {
   "cell_type": "code",
   "execution_count": 132,
   "metadata": {},
   "outputs": [
    {
     "data": {
      "text/html": [
       "<div>\n",
       "<style scoped>\n",
       "    .dataframe tbody tr th:only-of-type {\n",
       "        vertical-align: middle;\n",
       "    }\n",
       "\n",
       "    .dataframe tbody tr th {\n",
       "        vertical-align: top;\n",
       "    }\n",
       "\n",
       "    .dataframe thead th {\n",
       "        text-align: right;\n",
       "    }\n",
       "</style>\n",
       "<table border=\"1\" class=\"dataframe\">\n",
       "  <thead>\n",
       "    <tr style=\"text-align: right;\">\n",
       "      <th></th>\n",
       "      <th>JobTitle</th>\n",
       "      <th>Salary2010</th>\n",
       "      <th>Salary2011</th>\n",
       "      <th>Salary2012</th>\n",
       "      <th>Salary2013</th>\n",
       "    </tr>\n",
       "  </thead>\n",
       "  <tbody>\n",
       "    <tr>\n",
       "      <th>0</th>\n",
       "      <td>FORMS &amp; RECORDS ANALYST 2</td>\n",
       "      <td>0</td>\n",
       "      <td>0</td>\n",
       "      <td>0</td>\n",
       "      <td>32272</td>\n",
       "    </tr>\n",
       "    <tr>\n",
       "      <th>1</th>\n",
       "      <td>BOARD MEMBER</td>\n",
       "      <td>0</td>\n",
       "      <td>950</td>\n",
       "      <td>1450</td>\n",
       "      <td>0</td>\n",
       "    </tr>\n",
       "    <tr>\n",
       "      <th>2</th>\n",
       "      <td>WMS BAND 3</td>\n",
       "      <td>15004</td>\n",
       "      <td>0</td>\n",
       "      <td>0</td>\n",
       "      <td>0</td>\n",
       "    </tr>\n",
       "    <tr>\n",
       "      <th>3</th>\n",
       "      <td>BOARD MEMBER</td>\n",
       "      <td>550</td>\n",
       "      <td>0</td>\n",
       "      <td>0</td>\n",
       "      <td>0</td>\n",
       "    </tr>\n",
       "    <tr>\n",
       "      <th>4</th>\n",
       "      <td>ADMINISTRATIVE TRAINEE 3</td>\n",
       "      <td>0</td>\n",
       "      <td>0</td>\n",
       "      <td>0</td>\n",
       "      <td>15182</td>\n",
       "    </tr>\n",
       "  </tbody>\n",
       "</table>\n",
       "</div>"
      ],
      "text/plain": [
       "                    JobTitle  Salary2010  Salary2011  Salary2012  Salary2013\n",
       "0  FORMS & RECORDS ANALYST 2           0           0           0       32272\n",
       "1               BOARD MEMBER           0         950        1450           0\n",
       "2                 WMS BAND 3       15004           0           0           0\n",
       "3               BOARD MEMBER         550           0           0           0\n",
       "4   ADMINISTRATIVE TRAINEE 3           0           0           0       15182"
      ]
     },
     "execution_count": 132,
     "metadata": {},
     "output_type": "execute_result"
    }
   ],
   "source": [
    "# Remove columns\n",
    "df.drop(['Agency','AgencyTitle','EmployeeName'] , axis='columns',inplace=True)\n",
    "df.head()"
   ]
  },
  {
   "cell_type": "code",
   "execution_count": 133,
   "metadata": {
    "colab": {
     "base_uri": "https://localhost:8080/",
     "height": 315
    },
    "colab_type": "code",
    "executionInfo": {
     "elapsed": 588,
     "status": "ok",
     "timestamp": 1568272933219,
     "user": {
      "displayName": "rutha603",
      "photoUrl": "https://lh3.googleusercontent.com/a-/AAuE7mClCHbpMOaN33-_syd5guJO-Fjv4UUwHKXGLqm1JQ=s64",
      "userId": "02739118661767309867"
     },
     "user_tz": -180
    },
    "id": "dn0PID5RWaUj",
    "outputId": "7b8e44ef-7d41-4f41-e67f-53a9eb809a5b"
   },
   "outputs": [
    {
     "data": {
      "text/html": [
       "<div>\n",
       "<style scoped>\n",
       "    .dataframe tbody tr th:only-of-type {\n",
       "        vertical-align: middle;\n",
       "    }\n",
       "\n",
       "    .dataframe tbody tr th {\n",
       "        vertical-align: top;\n",
       "    }\n",
       "\n",
       "    .dataframe thead th {\n",
       "        text-align: right;\n",
       "    }\n",
       "</style>\n",
       "<table border=\"1\" class=\"dataframe\">\n",
       "  <thead>\n",
       "    <tr style=\"text-align: right;\">\n",
       "      <th></th>\n",
       "      <th>Salary2010</th>\n",
       "      <th>Salary2011</th>\n",
       "      <th>Salary2012</th>\n",
       "      <th>Salary2013</th>\n",
       "    </tr>\n",
       "  </thead>\n",
       "  <tbody>\n",
       "    <tr>\n",
       "      <th>count</th>\n",
       "      <td>3.3976e+05</td>\n",
       "      <td>3.3976e+05</td>\n",
       "      <td>3.3976e+05</td>\n",
       "      <td>3.3976e+05</td>\n",
       "    </tr>\n",
       "    <tr>\n",
       "      <th>mean</th>\n",
       "      <td>1.9798e+04</td>\n",
       "      <td>1.9446e+04</td>\n",
       "      <td>1.9715e+04</td>\n",
       "      <td>2.0325e+04</td>\n",
       "    </tr>\n",
       "    <tr>\n",
       "      <th>std</th>\n",
       "      <td>3.0524e+04</td>\n",
       "      <td>3.0444e+04</td>\n",
       "      <td>3.1129e+04</td>\n",
       "      <td>3.1998e+04</td>\n",
       "    </tr>\n",
       "    <tr>\n",
       "      <th>min</th>\n",
       "      <td>0.0000e+00</td>\n",
       "      <td>0.0000e+00</td>\n",
       "      <td>0.0000e+00</td>\n",
       "      <td>0.0000e+00</td>\n",
       "    </tr>\n",
       "    <tr>\n",
       "      <th>25%</th>\n",
       "      <td>0.0000e+00</td>\n",
       "      <td>0.0000e+00</td>\n",
       "      <td>0.0000e+00</td>\n",
       "      <td>0.0000e+00</td>\n",
       "    </tr>\n",
       "    <tr>\n",
       "      <th>50%</th>\n",
       "      <td>0.0000e+00</td>\n",
       "      <td>0.0000e+00</td>\n",
       "      <td>1.1100e+02</td>\n",
       "      <td>1.8400e+02</td>\n",
       "    </tr>\n",
       "    <tr>\n",
       "      <th>75%</th>\n",
       "      <td>3.7804e+04</td>\n",
       "      <td>3.6572e+04</td>\n",
       "      <td>3.6672e+04</td>\n",
       "      <td>3.7822e+04</td>\n",
       "    </tr>\n",
       "    <tr>\n",
       "      <th>max</th>\n",
       "      <td>1.9829e+06</td>\n",
       "      <td>2.5292e+06</td>\n",
       "      <td>2.7364e+06</td>\n",
       "      <td>2.6336e+06</td>\n",
       "    </tr>\n",
       "  </tbody>\n",
       "</table>\n",
       "</div>"
      ],
      "text/plain": [
       "       Salary2010  Salary2011  Salary2012  Salary2013\n",
       "count  3.3976e+05  3.3976e+05  3.3976e+05  3.3976e+05\n",
       "mean   1.9798e+04  1.9446e+04  1.9715e+04  2.0325e+04\n",
       "std    3.0524e+04  3.0444e+04  3.1129e+04  3.1998e+04\n",
       "min    0.0000e+00  0.0000e+00  0.0000e+00  0.0000e+00\n",
       "25%    0.0000e+00  0.0000e+00  0.0000e+00  0.0000e+00\n",
       "50%    0.0000e+00  0.0000e+00  1.1100e+02  1.8400e+02\n",
       "75%    3.7804e+04  3.6572e+04  3.6672e+04  3.7822e+04\n",
       "max    1.9829e+06  2.5292e+06  2.7364e+06  2.6336e+06"
      ]
     },
     "execution_count": 133,
     "metadata": {},
     "output_type": "execute_result"
    }
   ],
   "source": [
    "df.describe()"
   ]
  },
  {
   "cell_type": "code",
   "execution_count": 134,
   "metadata": {
    "colab": {},
    "colab_type": "code",
    "id": "QVqX-TCfQtwg"
   },
   "outputs": [
    {
     "data": {
      "text/plain": [
       "JobTitle      0\n",
       "Salary2010    0\n",
       "Salary2011    0\n",
       "Salary2012    0\n",
       "Salary2013    0\n",
       "dtype: int64"
      ]
     },
     "execution_count": 134,
     "metadata": {},
     "output_type": "execute_result"
    }
   ],
   "source": [
    "df.isnull().isnull().sum()"
   ]
  },
  {
   "cell_type": "code",
   "execution_count": 135,
   "metadata": {
    "colab": {
     "base_uri": "https://localhost:8080/",
     "height": 120
    },
    "colab_type": "code",
    "executionInfo": {
     "elapsed": 642,
     "status": "ok",
     "timestamp": 1568271533481,
     "user": {
      "displayName": "rutha603",
      "photoUrl": "https://lh3.googleusercontent.com/a-/AAuE7mClCHbpMOaN33-_syd5guJO-Fjv4UUwHKXGLqm1JQ=s64",
      "userId": "02739118661767309867"
     },
     "user_tz": -180
    },
    "id": "KkWqQX3BQ-2p",
    "outputId": "631744db-3ba3-431e-a103-133c1ce83025"
   },
   "outputs": [
    {
     "data": {
      "text/plain": [
       "JobTitle      object\n",
       "Salary2010     int64\n",
       "Salary2011     int64\n",
       "Salary2012     int64\n",
       "Salary2013     int64\n",
       "dtype: object"
      ]
     },
     "execution_count": 135,
     "metadata": {},
     "output_type": "execute_result"
    }
   ],
   "source": [
    "df.dtypes"
   ]
  },
  {
   "cell_type": "code",
   "execution_count": 136,
   "metadata": {},
   "outputs": [],
   "source": [
    "# Clean JobTitle\n",
    "names=df.JobTitle\n",
    "names=[n.translate({ord(','):' ',ord('.'):'',ord(\"'\"):\"\",ord('\"'):\"\"}) for n in names]\n",
    "names=[n.translate({ord('1'):'i',ord('2'):'ii',ord('3'):'iii',ord('4'):'iv',ord('5'):'v',ord('6'):'vi'}) for n in names]\n",
    "names=[n.replace('  ',' ') for n in names]\n",
    "names=[n.replace('0','') for n in names]\n",
    "names=[n.lower() for n in names]\n",
    "df.JobTitle = names"
   ]
  },
  {
   "cell_type": "code",
   "execution_count": 137,
   "metadata": {
    "colab": {},
    "colab_type": "code",
    "id": "3qnwAihlpEM1"
   },
   "outputs": [],
   "source": [
    "# Calculate max salary at each year for duplicate JobTitle\n",
    "df1 = df.groupby('JobTitle')['Salary2010','Salary2011','Salary2012','Salary2013'].max()"
   ]
  },
  {
   "cell_type": "code",
   "execution_count": 138,
   "metadata": {
    "colab": {
     "base_uri": "https://localhost:8080/",
     "height": 356
    },
    "colab_type": "code",
    "executionInfo": {
     "elapsed": 600,
     "status": "ok",
     "timestamp": 1568278711295,
     "user": {
      "displayName": "rutha603",
      "photoUrl": "https://lh3.googleusercontent.com/a-/AAuE7mClCHbpMOaN33-_syd5guJO-Fjv4UUwHKXGLqm1JQ=s64",
      "userId": "02739118661767309867"
     },
     "user_tz": -180
    },
    "id": "8nlMzbtlsep6",
    "outputId": "d81a2d1e-a3f6-413a-d1c2-552998307e47"
   },
   "outputs": [
    {
     "data": {
      "text/html": [
       "<div>\n",
       "<style scoped>\n",
       "    .dataframe tbody tr th:only-of-type {\n",
       "        vertical-align: middle;\n",
       "    }\n",
       "\n",
       "    .dataframe tbody tr th {\n",
       "        vertical-align: top;\n",
       "    }\n",
       "\n",
       "    .dataframe thead th {\n",
       "        text-align: right;\n",
       "    }\n",
       "</style>\n",
       "<table border=\"1\" class=\"dataframe\">\n",
       "  <thead>\n",
       "    <tr style=\"text-align: right;\">\n",
       "      <th></th>\n",
       "      <th>Salary2010</th>\n",
       "      <th>Salary2011</th>\n",
       "      <th>Salary2012</th>\n",
       "      <th>Salary2013</th>\n",
       "    </tr>\n",
       "    <tr>\n",
       "      <th>JobTitle</th>\n",
       "      <th></th>\n",
       "      <th></th>\n",
       "      <th></th>\n",
       "      <th></th>\n",
       "    </tr>\n",
       "  </thead>\n",
       "  <tbody>\n",
       "    <tr>\n",
       "      <th>8vivi a/d audit</th>\n",
       "      <td>0</td>\n",
       "      <td>91384</td>\n",
       "      <td>101771</td>\n",
       "      <td>60210</td>\n",
       "    </tr>\n",
       "    <tr>\n",
       "      <th>99999999</th>\n",
       "      <td>0</td>\n",
       "      <td>68000</td>\n",
       "      <td>0</td>\n",
       "      <td>0</td>\n",
       "    </tr>\n",
       "    <tr>\n",
       "      <th>[not provided]</th>\n",
       "      <td>0</td>\n",
       "      <td>0</td>\n",
       "      <td>0</td>\n",
       "      <td>23530</td>\n",
       "    </tr>\n",
       "    <tr>\n",
       "      <th>a &amp; i equip job shop cord</th>\n",
       "      <td>34813</td>\n",
       "      <td>34770</td>\n",
       "      <td>34430</td>\n",
       "      <td>35229</td>\n",
       "    </tr>\n",
       "    <tr>\n",
       "      <th>a &amp; sb ab c f o</th>\n",
       "      <td>85017</td>\n",
       "      <td>73162</td>\n",
       "      <td>82392</td>\n",
       "      <td>84726</td>\n",
       "    </tr>\n",
       "  </tbody>\n",
       "</table>\n",
       "</div>"
      ],
      "text/plain": [
       "                           Salary2010  Salary2011  Salary2012  Salary2013\n",
       "JobTitle                                                                 \n",
       "8vivi a/d audit                     0       91384      101771       60210\n",
       "99999999                            0       68000           0           0\n",
       "[not provided]                      0           0           0       23530\n",
       "a & i equip job shop cord       34813       34770       34430       35229\n",
       "a & sb ab c f o                 85017       73162       82392       84726"
      ]
     },
     "execution_count": 138,
     "metadata": {},
     "output_type": "execute_result"
    }
   ],
   "source": [
    "df1.head()"
   ]
  },
  {
   "cell_type": "code",
   "execution_count": 139,
   "metadata": {
    "colab": {},
    "colab_type": "code",
    "id": "Sq9mgJhbt9yJ"
   },
   "outputs": [
    {
     "data": {
      "text/plain": [
       "16914"
      ]
     },
     "execution_count": 139,
     "metadata": {},
     "output_type": "execute_result"
    }
   ],
   "source": [
    "# Total no. of employees\n",
    "df1.shape[0]"
   ]
  },
  {
   "cell_type": "code",
   "execution_count": 140,
   "metadata": {
    "colab": {},
    "colab_type": "code",
    "id": "Wk2CMRCUdywM"
   },
   "outputs": [],
   "source": [
    "# Calaulate max salary to be the ML 'target' in a new column\n",
    "df1['salary']=df1.max(axis=1)"
   ]
  },
  {
   "cell_type": "code",
   "execution_count": 141,
   "metadata": {
    "colab": {
     "base_uri": "https://localhost:8080/",
     "height": 234
    },
    "colab_type": "code",
    "executionInfo": {
     "elapsed": 634,
     "status": "ok",
     "timestamp": 1568279393249,
     "user": {
      "displayName": "rutha603",
      "photoUrl": "https://lh3.googleusercontent.com/a-/AAuE7mClCHbpMOaN33-_syd5guJO-Fjv4UUwHKXGLqm1JQ=s64",
      "userId": "02739118661767309867"
     },
     "user_tz": -180
    },
    "id": "WVaSWlruuy5F",
    "outputId": "dc9e740d-bcc3-4fba-8e02-c89d4f721e8b",
    "scrolled": true
   },
   "outputs": [
    {
     "data": {
      "text/html": [
       "<div>\n",
       "<style scoped>\n",
       "    .dataframe tbody tr th:only-of-type {\n",
       "        vertical-align: middle;\n",
       "    }\n",
       "\n",
       "    .dataframe tbody tr th {\n",
       "        vertical-align: top;\n",
       "    }\n",
       "\n",
       "    .dataframe thead th {\n",
       "        text-align: right;\n",
       "    }\n",
       "</style>\n",
       "<table border=\"1\" class=\"dataframe\">\n",
       "  <thead>\n",
       "    <tr style=\"text-align: right;\">\n",
       "      <th></th>\n",
       "      <th>JobTitle</th>\n",
       "      <th>salary</th>\n",
       "    </tr>\n",
       "  </thead>\n",
       "  <tbody>\n",
       "    <tr>\n",
       "      <th>0</th>\n",
       "      <td>8vivi a/d audit</td>\n",
       "      <td>101771</td>\n",
       "    </tr>\n",
       "    <tr>\n",
       "      <th>1</th>\n",
       "      <td>99999999</td>\n",
       "      <td>68000</td>\n",
       "    </tr>\n",
       "    <tr>\n",
       "      <th>2</th>\n",
       "      <td>[not provided]</td>\n",
       "      <td>23530</td>\n",
       "    </tr>\n",
       "    <tr>\n",
       "      <th>3</th>\n",
       "      <td>a &amp; i equip job shop cord</td>\n",
       "      <td>35229</td>\n",
       "    </tr>\n",
       "    <tr>\n",
       "      <th>4</th>\n",
       "      <td>a &amp; sb ab c f o</td>\n",
       "      <td>85017</td>\n",
       "    </tr>\n",
       "  </tbody>\n",
       "</table>\n",
       "</div>"
      ],
      "text/plain": [
       "                    JobTitle  salary\n",
       "0            8vivi a/d audit  101771\n",
       "1                   99999999   68000\n",
       "2             [not provided]   23530\n",
       "3  a & i equip job shop cord   35229\n",
       "4            a & sb ab c f o   85017"
      ]
     },
     "execution_count": 141,
     "metadata": {},
     "output_type": "execute_result"
    }
   ],
   "source": [
    "#Remove previous salary colomns\n",
    "cols = [1,2,3,4]\n",
    "df1.drop(df.columns[cols],axis=1,inplace=True)\n",
    "df1.reset_index(inplace=True)\n",
    "df1.head()"
   ]
  },
  {
   "cell_type": "code",
   "execution_count": 142,
   "metadata": {},
   "outputs": [
    {
     "data": {
      "text/plain": [
       "16914"
      ]
     },
     "execution_count": 142,
     "metadata": {},
     "output_type": "execute_result"
    }
   ],
   "source": [
    "df1.shape[0]"
   ]
  },
  {
   "cell_type": "markdown",
   "metadata": {},
   "source": [
    "## Removing Outliers"
   ]
  },
  {
   "cell_type": "code",
   "execution_count": 143,
   "metadata": {},
   "outputs": [],
   "source": [
    "# Annual salaries less then 1,000 or higher then 1,000,000\n",
    "outl1 = df1.index[df1['salary'] <= 500].tolist()\n",
    "outl2 = df1.index[df1['salary'] >= 2000000].tolist()\n",
    "outl3 = df1.index[df1['JobTitle'] == '99999999'].tolist()\n",
    "outl4 = df1.index[df1['JobTitle'] == '[not provided]'].tolist()\n",
    "outl=outl1+outl2+outl3+outl4"
   ]
  },
  {
   "cell_type": "code",
   "execution_count": 144,
   "metadata": {},
   "outputs": [],
   "source": [
    "df1.drop(df1.index[outl], inplace=True);"
   ]
  },
  {
   "cell_type": "code",
   "execution_count": 145,
   "metadata": {},
   "outputs": [
    {
     "name": "stdout",
     "output_type": "stream",
     "text": [
      "Total rows removed: 161\n"
     ]
    }
   ],
   "source": [
    "print('Total rows removed: {}'.format(len(outl)))"
   ]
  },
  {
   "cell_type": "code",
   "execution_count": 146,
   "metadata": {},
   "outputs": [
    {
     "data": {
      "text/plain": [
       "16753"
      ]
     },
     "execution_count": 146,
     "metadata": {},
     "output_type": "execute_result"
    }
   ],
   "source": [
    "# New no. of emloyees - dataset\n",
    "df1.shape[0]"
   ]
  },
  {
   "cell_type": "code",
   "execution_count": 148,
   "metadata": {},
   "outputs": [
    {
     "data": {
      "text/html": [
       "<div>\n",
       "<style scoped>\n",
       "    .dataframe tbody tr th:only-of-type {\n",
       "        vertical-align: middle;\n",
       "    }\n",
       "\n",
       "    .dataframe tbody tr th {\n",
       "        vertical-align: top;\n",
       "    }\n",
       "\n",
       "    .dataframe thead th {\n",
       "        text-align: right;\n",
       "    }\n",
       "</style>\n",
       "<table border=\"1\" class=\"dataframe\">\n",
       "  <thead>\n",
       "    <tr style=\"text-align: right;\">\n",
       "      <th></th>\n",
       "      <th>JobTitle</th>\n",
       "      <th>salary</th>\n",
       "    </tr>\n",
       "  </thead>\n",
       "  <tbody>\n",
       "    <tr>\n",
       "      <th>0</th>\n",
       "      <td>8vivi a/d audit</td>\n",
       "      <td>101771</td>\n",
       "    </tr>\n",
       "    <tr>\n",
       "      <th>3</th>\n",
       "      <td>a &amp; i equip job shop cord</td>\n",
       "      <td>35229</td>\n",
       "    </tr>\n",
       "    <tr>\n",
       "      <th>4</th>\n",
       "      <td>a &amp; sb ab c f o</td>\n",
       "      <td>85017</td>\n",
       "    </tr>\n",
       "    <tr>\n",
       "      <th>5</th>\n",
       "      <td>a &amp; sb ab c/opo</td>\n",
       "      <td>82305</td>\n",
       "    </tr>\n",
       "    <tr>\n",
       "      <th>6</th>\n",
       "      <td>a m sup - pt orchd</td>\n",
       "      <td>70454</td>\n",
       "    </tr>\n",
       "  </tbody>\n",
       "</table>\n",
       "</div>"
      ],
      "text/plain": [
       "                    JobTitle  salary\n",
       "0            8vivi a/d audit  101771\n",
       "3  a & i equip job shop cord   35229\n",
       "4            a & sb ab c f o   85017\n",
       "5            a & sb ab c/opo   82305\n",
       "6         a m sup - pt orchd   70454"
      ]
     },
     "execution_count": 148,
     "metadata": {},
     "output_type": "execute_result"
    }
   ],
   "source": [
    "df1.head()"
   ]
  },
  {
   "cell_type": "markdown",
   "metadata": {},
   "source": [
    "# $   Mechine \\; Learning  $ &#128204;  &#8499;&#8466; \n"
   ]
  },
  {
   "cell_type": "code",
   "execution_count": 183,
   "metadata": {
    "colab": {
     "base_uri": "https://localhost:8080/",
     "height": 34
    },
    "colab_type": "code",
    "executionInfo": {
     "elapsed": 618,
     "status": "ok",
     "timestamp": 1568289498946,
     "user": {
      "displayName": "rutha603",
      "photoUrl": "https://lh3.googleusercontent.com/a-/AAuE7mClCHbpMOaN33-_syd5guJO-Fjv4UUwHKXGLqm1JQ=s64",
      "userId": "02739118661767309867"
     },
     "user_tz": -180
    },
    "id": "PDhNB08UWSVo",
    "outputId": "6d869f34-f83a-4331-cb17-f1568523e5a5"
   },
   "outputs": [],
   "source": [
    "from sklearn.feature_extraction.text import CountVectorizer\n",
    "from sklearn.feature_extraction import DictVectorizer\n",
    "from sklearn.feature_extraction.text import TfidfTransformer\n",
    "from sklearn.model_selection import cross_val_score, train_test_split, GridSearchCV\n",
    "from sklearn.linear_model import LinearRegression\n",
    "from sklearn.ensemble import RandomForestRegressor\n",
    "from sklearn.metrics import mean_squared_error as MSE\n",
    "from sklearn.metrics import mean_squared_error\n",
    "from sklearn.metrics import explained_variance_score,r2_score\n",
    "from sklearn.metrics import accuracy_score, pairwise_distances\n",
    "from sklearn.metrics import mean_absolute_error\n",
    "from sklearn.preprocessing import StandardScaler, MinMaxScaler\n",
    "from sklearn.preprocessing import MaxAbsScaler, LabelEncoder\n",
    "import xgboost as xgb"
   ]
  },
  {
   "cell_type": "code",
   "execution_count": 150,
   "metadata": {},
   "outputs": [],
   "source": [
    "# Function to calculate mean absolute error\n",
    "def mae(y_true, y_pred):\n",
    "    return np.mean(abs(y_true - y_pred))"
   ]
  },
  {
   "cell_type": "code",
   "execution_count": 151,
   "metadata": {
    "colab": {
     "base_uri": "https://localhost:8080/",
     "height": 185
    },
    "colab_type": "code",
    "executionInfo": {
     "elapsed": 595,
     "status": "error",
     "timestamp": 1568289535352,
     "user": {
      "displayName": "rutha603",
      "photoUrl": "https://lh3.googleusercontent.com/a-/AAuE7mClCHbpMOaN33-_syd5guJO-Fjv4UUwHKXGLqm1JQ=s64",
      "userId": "02739118661767309867"
     },
     "user_tz": -180
    },
    "id": "-sZax4W9VwVf",
    "outputId": "44ea2051-8860-47bf-a0ce-a0a2340f50f4"
   },
   "outputs": [],
   "source": [
    "# Features\n",
    "Xfeatures = df1.JobTitle\n",
    "# targets\n",
    "y = df1.salary\n",
    "\n",
    "X_train, X_test, y_train, y_test = train_test_split(Xfeatures, y, test_size= 0.3, random_state=42)"
   ]
  },
  {
   "cell_type": "code",
   "execution_count": 152,
   "metadata": {},
   "outputs": [
    {
     "data": {
      "text/plain": [
       "11727"
      ]
     },
     "execution_count": 152,
     "metadata": {},
     "output_type": "execute_result"
    }
   ],
   "source": [
    "X_train.size"
   ]
  },
  {
   "cell_type": "markdown",
   "metadata": {},
   "source": [
    "### Handling the text feature - JobTitle\n",
    "#### Converting the feature text name to a matrix of token counts using CountVectorizer transform"
   ]
  },
  {
   "cell_type": "code",
   "execution_count": 153,
   "metadata": {},
   "outputs": [],
   "source": [
    "cv = CountVectorizer()\n",
    "X_train_tf=cv.fit_transform(X_train)"
   ]
  },
  {
   "cell_type": "code",
   "execution_count": 154,
   "metadata": {},
   "outputs": [],
   "source": [
    "# cv.get_feature_names()"
   ]
  },
  {
   "cell_type": "markdown",
   "metadata": {},
   "source": [
    "#### Transform the count matrix to a normalized tf or tf-idf representation"
   ]
  },
  {
   "cell_type": "code",
   "execution_count": 155,
   "metadata": {},
   "outputs": [
    {
     "data": {
      "text/plain": [
       "(11727, 4733)"
      ]
     },
     "execution_count": 155,
     "metadata": {},
     "output_type": "execute_result"
    }
   ],
   "source": [
    "X_transformer = TfidfTransformer()\n",
    "X_tf = X_transformer.fit_transform(X_train_tf)\n",
    "X_tf.shape"
   ]
  },
  {
   "cell_type": "markdown",
   "metadata": {},
   "source": [
    "## $ Linear \\; Regression \\; Model $ &#128201;"
   ]
  },
  {
   "cell_type": "code",
   "execution_count": 156,
   "metadata": {},
   "outputs": [
    {
     "data": {
      "text/plain": [
       "LinearRegression(copy_X=True, fit_intercept=True, n_jobs=None, normalize=False)"
      ]
     },
     "execution_count": 156,
     "metadata": {},
     "output_type": "execute_result"
    }
   ],
   "source": [
    "LR = LinearRegression()\n",
    "LR.fit(X_tf, y_train)"
   ]
  },
  {
   "cell_type": "code",
   "execution_count": 157,
   "metadata": {},
   "outputs": [],
   "source": [
    "preds = LR.predict(X_tf)"
   ]
  },
  {
   "cell_type": "code",
   "execution_count": 158,
   "metadata": {},
   "outputs": [
    {
     "name": "stdout",
     "output_type": "stream",
     "text": [
      "len of preds 11727\n",
      "len X_train 11727\n",
      "len y_train 11727\n"
     ]
    }
   ],
   "source": [
    "print('len of preds',len(preds))\n",
    "print('len X_train',len(X_train))\n",
    "print('len y_train',len(y_train))"
   ]
  },
  {
   "cell_type": "code",
   "execution_count": 159,
   "metadata": {},
   "outputs": [],
   "source": [
    "df_train = pd.DataFrame()\n",
    "df_train = df_train.assign(JobTitle = X_train,  salary = y_train, pred_salary = preds)"
   ]
  },
  {
   "cell_type": "code",
   "execution_count": 160,
   "metadata": {},
   "outputs": [
    {
     "data": {
      "text/html": [
       "<div>\n",
       "<style scoped>\n",
       "    .dataframe tbody tr th:only-of-type {\n",
       "        vertical-align: middle;\n",
       "    }\n",
       "\n",
       "    .dataframe tbody tr th {\n",
       "        vertical-align: top;\n",
       "    }\n",
       "\n",
       "    .dataframe thead th {\n",
       "        text-align: right;\n",
       "    }\n",
       "</style>\n",
       "<table border=\"1\" class=\"dataframe\">\n",
       "  <thead>\n",
       "    <tr style=\"text-align: right;\">\n",
       "      <th></th>\n",
       "      <th>JobTitle</th>\n",
       "      <th>salary</th>\n",
       "      <th>pred_salary</th>\n",
       "    </tr>\n",
       "  </thead>\n",
       "  <tbody>\n",
       "    <tr>\n",
       "      <th>1275</th>\n",
       "      <td>assoc dir development</td>\n",
       "      <td>64000</td>\n",
       "      <td>71450.3680</td>\n",
       "    </tr>\n",
       "    <tr>\n",
       "      <th>4906</th>\n",
       "      <td>dir distance education</td>\n",
       "      <td>70258</td>\n",
       "      <td>74169.6472</td>\n",
       "    </tr>\n",
       "    <tr>\n",
       "      <th>4639</th>\n",
       "      <td>deputy secretary</td>\n",
       "      <td>73657</td>\n",
       "      <td>65888.1355</td>\n",
       "    </tr>\n",
       "    <tr>\n",
       "      <th>15962</th>\n",
       "      <td>uid cc ops support mgr</td>\n",
       "      <td>17880</td>\n",
       "      <td>50656.0555</td>\n",
       "    </tr>\n",
       "    <tr>\n",
       "      <th>11673</th>\n",
       "      <td>opportunity grant coordin</td>\n",
       "      <td>29236</td>\n",
       "      <td>52070.0591</td>\n",
       "    </tr>\n",
       "  </tbody>\n",
       "</table>\n",
       "</div>"
      ],
      "text/plain": [
       "                        JobTitle  salary  pred_salary\n",
       "1275       assoc dir development   64000   71450.3680\n",
       "4906      dir distance education   70258   74169.6472\n",
       "4639            deputy secretary   73657   65888.1355\n",
       "15962     uid cc ops support mgr   17880   50656.0555\n",
       "11673  opportunity grant coordin   29236   52070.0591"
      ]
     },
     "execution_count": 160,
     "metadata": {},
     "output_type": "execute_result"
    }
   ],
   "source": [
    "df_train.head()"
   ]
  },
  {
   "cell_type": "code",
   "execution_count": 161,
   "metadata": {},
   "outputs": [
    {
     "name": "stdout",
     "output_type": "stream",
     "text": [
      "RMSE on train = 26911.59\n"
     ]
    }
   ],
   "source": [
    "train_rmse = np.sqrt(MSE(df_train['salary'], \n",
    "                       df_train['pred_salary']))\n",
    "print(\"RMSE on train = {:.2f}\".format(train_rmse))  "
   ]
  },
  {
   "cell_type": "markdown",
   "metadata": {},
   "source": [
    "## Model validation"
   ]
  },
  {
   "cell_type": "code",
   "execution_count": 162,
   "metadata": {},
   "outputs": [
    {
     "data": {
      "text/plain": [
       "5026"
      ]
     },
     "execution_count": 162,
     "metadata": {},
     "output_type": "execute_result"
    }
   ],
   "source": [
    "X_test.size"
   ]
  },
  {
   "cell_type": "code",
   "execution_count": 163,
   "metadata": {},
   "outputs": [],
   "source": [
    "X_tf_test=cv.transform(X_test)"
   ]
  },
  {
   "cell_type": "code",
   "execution_count": 164,
   "metadata": {},
   "outputs": [
    {
     "data": {
      "text/plain": [
       "(5026, 4733)"
      ]
     },
     "execution_count": 164,
     "metadata": {},
     "output_type": "execute_result"
    }
   ],
   "source": [
    "X_transformer = TfidfTransformer()\n",
    "Xtf_test = X_transformer.fit_transform(X_tf_test)\n",
    "Xtf_test.shape"
   ]
  },
  {
   "cell_type": "code",
   "execution_count": 165,
   "metadata": {},
   "outputs": [],
   "source": [
    "test_preds = LR.predict(Xtf_test)"
   ]
  },
  {
   "cell_type": "code",
   "execution_count": 166,
   "metadata": {},
   "outputs": [
    {
     "name": "stdout",
     "output_type": "stream",
     "text": [
      "len of preds 5026\n",
      "len X_test 5026\n",
      "len y_test 5026\n"
     ]
    }
   ],
   "source": [
    "print('len of preds',len(test_preds))\n",
    "print('len X_test',len(X_test))\n",
    "print('len y_test',len(y_test))"
   ]
  },
  {
   "cell_type": "code",
   "execution_count": 167,
   "metadata": {},
   "outputs": [],
   "source": [
    "df_test = pd.DataFrame()\n",
    "df_test = df_test.assign(JobTitle = X_test,  salary = y_test, pred_salary = test_preds)"
   ]
  },
  {
   "cell_type": "code",
   "execution_count": 168,
   "metadata": {
    "collapsed": true
   },
   "outputs": [
    {
     "data": {
      "text/html": [
       "<div>\n",
       "<style scoped>\n",
       "    .dataframe tbody tr th:only-of-type {\n",
       "        vertical-align: middle;\n",
       "    }\n",
       "\n",
       "    .dataframe tbody tr th {\n",
       "        vertical-align: top;\n",
       "    }\n",
       "\n",
       "    .dataframe thead th {\n",
       "        text-align: right;\n",
       "    }\n",
       "</style>\n",
       "<table border=\"1\" class=\"dataframe\">\n",
       "  <thead>\n",
       "    <tr style=\"text-align: right;\">\n",
       "      <th></th>\n",
       "      <th>JobTitle</th>\n",
       "      <th>salary</th>\n",
       "      <th>pred_salary</th>\n",
       "    </tr>\n",
       "  </thead>\n",
       "  <tbody>\n",
       "    <tr>\n",
       "      <th>101</th>\n",
       "      <td>abe esl adv prog coord</td>\n",
       "      <td>38404</td>\n",
       "      <td>37598.8688</td>\n",
       "    </tr>\n",
       "    <tr>\n",
       "      <th>13717</th>\n",
       "      <td>reten/trans success mgr</td>\n",
       "      <td>50000</td>\n",
       "      <td>54223.6147</td>\n",
       "    </tr>\n",
       "    <tr>\n",
       "      <th>7098</th>\n",
       "      <td>exec dir new initiatives</td>\n",
       "      <td>71391</td>\n",
       "      <td>53516.3954</td>\n",
       "    </tr>\n",
       "    <tr>\n",
       "      <th>937</th>\n",
       "      <td>as/d trns adv</td>\n",
       "      <td>46716</td>\n",
       "      <td>56025.3923</td>\n",
       "    </tr>\n",
       "    <tr>\n",
       "      <th>2812</th>\n",
       "      <td>chief fin offcr</td>\n",
       "      <td>93917</td>\n",
       "      <td>124062.4235</td>\n",
       "    </tr>\n",
       "    <tr>\n",
       "      <th>2203</th>\n",
       "      <td>bldg equipment mechanic</td>\n",
       "      <td>56350</td>\n",
       "      <td>64922.6130</td>\n",
       "    </tr>\n",
       "    <tr>\n",
       "      <th>10559</th>\n",
       "      <td>marketing associate</td>\n",
       "      <td>39730</td>\n",
       "      <td>40844.6813</td>\n",
       "    </tr>\n",
       "    <tr>\n",
       "      <th>15776</th>\n",
       "      <td>transportation engineer iii</td>\n",
       "      <td>137728</td>\n",
       "      <td>105952.1704</td>\n",
       "    </tr>\n",
       "    <tr>\n",
       "      <th>5313</th>\n",
       "      <td>dir public affairs</td>\n",
       "      <td>100368</td>\n",
       "      <td>103402.7085</td>\n",
       "    </tr>\n",
       "    <tr>\n",
       "      <th>9976</th>\n",
       "      <td>legis coord</td>\n",
       "      <td>70020</td>\n",
       "      <td>84023.3700</td>\n",
       "    </tr>\n",
       "    <tr>\n",
       "      <th>13110</th>\n",
       "      <td>publisher student publications</td>\n",
       "      <td>80048</td>\n",
       "      <td>35024.4890</td>\n",
       "    </tr>\n",
       "    <tr>\n",
       "      <th>5345</th>\n",
       "      <td>dir rsp</td>\n",
       "      <td>81700</td>\n",
       "      <td>132258.7611</td>\n",
       "    </tr>\n",
       "    <tr>\n",
       "      <th>1721</th>\n",
       "      <td>asst dir sch pro spec proj</td>\n",
       "      <td>49527</td>\n",
       "      <td>57983.9487</td>\n",
       "    </tr>\n",
       "    <tr>\n",
       "      <th>3213</th>\n",
       "      <td>comm director</td>\n",
       "      <td>123930</td>\n",
       "      <td>99200.3678</td>\n",
       "    </tr>\n",
       "    <tr>\n",
       "      <th>4152</th>\n",
       "      <td>custodian-iiiiiiiii</td>\n",
       "      <td>7621</td>\n",
       "      <td>40791.5534</td>\n",
       "    </tr>\n",
       "    <tr>\n",
       "      <th>12249</th>\n",
       "      <td>policy planning &amp; risk administrator</td>\n",
       "      <td>68427</td>\n",
       "      <td>88551.2205</td>\n",
       "    </tr>\n",
       "    <tr>\n",
       "      <th>11689</th>\n",
       "      <td>oral health/abcd coord</td>\n",
       "      <td>43032</td>\n",
       "      <td>78281.9934</td>\n",
       "    </tr>\n",
       "    <tr>\n",
       "      <th>13542</th>\n",
       "      <td>research analyst ii</td>\n",
       "      <td>97020</td>\n",
       "      <td>55689.7164</td>\n",
       "    </tr>\n",
       "    <tr>\n",
       "      <th>15540</th>\n",
       "      <td>temp conference coordinator iii</td>\n",
       "      <td>12647</td>\n",
       "      <td>11429.9897</td>\n",
       "    </tr>\n",
       "    <tr>\n",
       "      <th>2630</th>\n",
       "      <td>cashier supervisor</td>\n",
       "      <td>37858</td>\n",
       "      <td>42766.8631</td>\n",
       "    </tr>\n",
       "    <tr>\n",
       "      <th>5038</th>\n",
       "      <td>dir inst research &amp; assess</td>\n",
       "      <td>80960</td>\n",
       "      <td>45072.9474</td>\n",
       "    </tr>\n",
       "    <tr>\n",
       "      <th>6154</th>\n",
       "      <td>dp dir parks</td>\n",
       "      <td>120048</td>\n",
       "      <td>194285.3374</td>\n",
       "    </tr>\n",
       "    <tr>\n",
       "      <th>10141</th>\n",
       "      <td>licensed nursing home administrator</td>\n",
       "      <td>69820</td>\n",
       "      <td>79921.1092</td>\n",
       "    </tr>\n",
       "    <tr>\n",
       "      <th>9033</th>\n",
       "      <td>instr media asst lead</td>\n",
       "      <td>6822</td>\n",
       "      <td>28960.3663</td>\n",
       "    </tr>\n",
       "    <tr>\n",
       "      <th>12931</th>\n",
       "      <td>property &amp; records mgr</td>\n",
       "      <td>54702</td>\n",
       "      <td>55680.2144</td>\n",
       "    </tr>\n",
       "    <tr>\n",
       "      <th>14357</th>\n",
       "      <td>shpm iv</td>\n",
       "      <td>68858</td>\n",
       "      <td>67471.4176</td>\n",
       "    </tr>\n",
       "    <tr>\n",
       "      <th>3236</th>\n",
       "      <td>commerce specialist i</td>\n",
       "      <td>54749</td>\n",
       "      <td>76509.0122</td>\n",
       "    </tr>\n",
       "    <tr>\n",
       "      <th>9338</th>\n",
       "      <td>investigator iii</td>\n",
       "      <td>75084</td>\n",
       "      <td>62479.4264</td>\n",
       "    </tr>\n",
       "    <tr>\n",
       "      <th>7327</th>\n",
       "      <td>f&amp;w enfor ofr iii</td>\n",
       "      <td>82172</td>\n",
       "      <td>83499.7847</td>\n",
       "    </tr>\n",
       "    <tr>\n",
       "      <th>2250</th>\n",
       "      <td>bpc proj mgr - amig</td>\n",
       "      <td>73728</td>\n",
       "      <td>82639.3754</td>\n",
       "    </tr>\n",
       "    <tr>\n",
       "      <th>...</th>\n",
       "      <td>...</td>\n",
       "      <td>...</td>\n",
       "      <td>...</td>\n",
       "    </tr>\n",
       "    <tr>\n",
       "      <th>11592</th>\n",
       "      <td>omwbe staff attorney</td>\n",
       "      <td>12533</td>\n",
       "      <td>83796.5717</td>\n",
       "    </tr>\n",
       "    <tr>\n",
       "      <th>16214</th>\n",
       "      <td>vocational rehabilitation supervisor</td>\n",
       "      <td>64765</td>\n",
       "      <td>55032.3449</td>\n",
       "    </tr>\n",
       "    <tr>\n",
       "      <th>13276</th>\n",
       "      <td>rec spec ii</td>\n",
       "      <td>3702</td>\n",
       "      <td>19372.4138</td>\n",
       "    </tr>\n",
       "    <tr>\n",
       "      <th>15714</th>\n",
       "      <td>tradeshelper</td>\n",
       "      <td>19467</td>\n",
       "      <td>44412.9629</td>\n",
       "    </tr>\n",
       "    <tr>\n",
       "      <th>5013</th>\n",
       "      <td>dir healthcare pathways ct</td>\n",
       "      <td>56500</td>\n",
       "      <td>25758.8491</td>\n",
       "    </tr>\n",
       "    <tr>\n",
       "      <th>83</th>\n",
       "      <td>a/sec gv rl cn a</td>\n",
       "      <td>85347</td>\n",
       "      <td>57358.3662</td>\n",
       "    </tr>\n",
       "    <tr>\n",
       "      <th>13382</th>\n",
       "      <td>reg mats eng</td>\n",
       "      <td>91627</td>\n",
       "      <td>108141.0528</td>\n",
       "    </tr>\n",
       "    <tr>\n",
       "      <th>537</th>\n",
       "      <td>administrative asst</td>\n",
       "      <td>39882</td>\n",
       "      <td>47730.4246</td>\n",
       "    </tr>\n",
       "    <tr>\n",
       "      <th>969</th>\n",
       "      <td>assess mngr/chief examine</td>\n",
       "      <td>38292</td>\n",
       "      <td>75371.3834</td>\n",
       "    </tr>\n",
       "    <tr>\n",
       "      <th>477</th>\n",
       "      <td>admin operations coordinator</td>\n",
       "      <td>55369</td>\n",
       "      <td>60643.1533</td>\n",
       "    </tr>\n",
       "    <tr>\n",
       "      <th>2308</th>\n",
       "      <td>bridge &amp; special projects supt</td>\n",
       "      <td>100282</td>\n",
       "      <td>78498.4899</td>\n",
       "    </tr>\n",
       "    <tr>\n",
       "      <th>12238</th>\n",
       "      <td>policy asst director-wmsiii</td>\n",
       "      <td>35811</td>\n",
       "      <td>82165.8050</td>\n",
       "    </tr>\n",
       "    <tr>\n",
       "      <th>15187</th>\n",
       "      <td>student prog/engagemnt dir</td>\n",
       "      <td>62000</td>\n",
       "      <td>52401.1155</td>\n",
       "    </tr>\n",
       "    <tr>\n",
       "      <th>2923</th>\n",
       "      <td>child care administrator</td>\n",
       "      <td>83352</td>\n",
       "      <td>64590.2943</td>\n",
       "    </tr>\n",
       "    <tr>\n",
       "      <th>3987</th>\n",
       "      <td>cowiche mill fire</td>\n",
       "      <td>1128</td>\n",
       "      <td>54938.6611</td>\n",
       "    </tr>\n",
       "    <tr>\n",
       "      <th>4440</th>\n",
       "      <td>dean technical education</td>\n",
       "      <td>83903</td>\n",
       "      <td>95044.3882</td>\n",
       "    </tr>\n",
       "    <tr>\n",
       "      <th>10508</th>\n",
       "      <td>managertech support srv</td>\n",
       "      <td>82576</td>\n",
       "      <td>57794.2226</td>\n",
       "    </tr>\n",
       "    <tr>\n",
       "      <th>11894</th>\n",
       "      <td>pbo gps data analyst</td>\n",
       "      <td>74088</td>\n",
       "      <td>51275.3938</td>\n",
       "    </tr>\n",
       "    <tr>\n",
       "      <th>10735</th>\n",
       "      <td>mental health pract clinical specialist</td>\n",
       "      <td>60252</td>\n",
       "      <td>68588.1045</td>\n",
       "    </tr>\n",
       "    <tr>\n",
       "      <th>6470</th>\n",
       "      <td>electronics technician i</td>\n",
       "      <td>39337</td>\n",
       "      <td>53788.3548</td>\n",
       "    </tr>\n",
       "    <tr>\n",
       "      <th>7444</th>\n",
       "      <td>fam computer assisted audit manager</td>\n",
       "      <td>77688</td>\n",
       "      <td>80564.0382</td>\n",
       "    </tr>\n",
       "    <tr>\n",
       "      <th>10620</th>\n",
       "      <td>med pg sp ii</td>\n",
       "      <td>43015</td>\n",
       "      <td>90777.9003</td>\n",
       "    </tr>\n",
       "    <tr>\n",
       "      <th>13516</th>\n",
       "      <td>res nat prg mgr</td>\n",
       "      <td>75100</td>\n",
       "      <td>86564.9253</td>\n",
       "    </tr>\n",
       "    <tr>\n",
       "      <th>15696</th>\n",
       "      <td>toss team mgr</td>\n",
       "      <td>2833</td>\n",
       "      <td>88856.8415</td>\n",
       "    </tr>\n",
       "    <tr>\n",
       "      <th>6613</th>\n",
       "      <td>emsi production support manager</td>\n",
       "      <td>61296</td>\n",
       "      <td>85785.2311</td>\n",
       "    </tr>\n",
       "    <tr>\n",
       "      <th>10601</th>\n",
       "      <td>md - housing asst unit</td>\n",
       "      <td>83442</td>\n",
       "      <td>68489.6356</td>\n",
       "    </tr>\n",
       "    <tr>\n",
       "      <th>15236</th>\n",
       "      <td>sum college visit tour staff</td>\n",
       "      <td>784</td>\n",
       "      <td>29374.9488</td>\n",
       "    </tr>\n",
       "    <tr>\n",
       "      <th>7702</th>\n",
       "      <td>fiscal manager</td>\n",
       "      <td>90150</td>\n",
       "      <td>79242.7250</td>\n",
       "    </tr>\n",
       "    <tr>\n",
       "      <th>6664</th>\n",
       "      <td>energy extension program manager</td>\n",
       "      <td>121454</td>\n",
       "      <td>88420.5106</td>\n",
       "    </tr>\n",
       "    <tr>\n",
       "      <th>3755</th>\n",
       "      <td>coord-marketing-bookstore</td>\n",
       "      <td>46906</td>\n",
       "      <td>34695.7622</td>\n",
       "    </tr>\n",
       "  </tbody>\n",
       "</table>\n",
       "<p>5026 rows × 3 columns</p>\n",
       "</div>"
      ],
      "text/plain": [
       "                                      JobTitle  salary  pred_salary\n",
       "101                     abe esl adv prog coord   38404   37598.8688\n",
       "13717                  reten/trans success mgr   50000   54223.6147\n",
       "7098                  exec dir new initiatives   71391   53516.3954\n",
       "937                              as/d trns adv   46716   56025.3923\n",
       "2812                           chief fin offcr   93917  124062.4235\n",
       "2203                   bldg equipment mechanic   56350   64922.6130\n",
       "10559                      marketing associate   39730   40844.6813\n",
       "15776              transportation engineer iii  137728  105952.1704\n",
       "5313                        dir public affairs  100368  103402.7085\n",
       "9976                               legis coord   70020   84023.3700\n",
       "13110           publisher student publications   80048   35024.4890\n",
       "5345                                   dir rsp   81700  132258.7611\n",
       "1721                asst dir sch pro spec proj   49527   57983.9487\n",
       "3213                             comm director  123930   99200.3678\n",
       "4152                       custodian-iiiiiiiii    7621   40791.5534\n",
       "12249     policy planning & risk administrator   68427   88551.2205\n",
       "11689                   oral health/abcd coord   43032   78281.9934\n",
       "13542                      research analyst ii   97020   55689.7164\n",
       "15540          temp conference coordinator iii   12647   11429.9897\n",
       "2630                        cashier supervisor   37858   42766.8631\n",
       "5038                dir inst research & assess   80960   45072.9474\n",
       "6154                              dp dir parks  120048  194285.3374\n",
       "10141      licensed nursing home administrator   69820   79921.1092\n",
       "9033                     instr media asst lead    6822   28960.3663\n",
       "12931                   property & records mgr   54702   55680.2144\n",
       "14357                                  shpm iv   68858   67471.4176\n",
       "3236                     commerce specialist i   54749   76509.0122\n",
       "9338                          investigator iii   75084   62479.4264\n",
       "7327                         f&w enfor ofr iii   82172   83499.7847\n",
       "2250                       bpc proj mgr - amig   73728   82639.3754\n",
       "...                                        ...     ...          ...\n",
       "11592                     omwbe staff attorney   12533   83796.5717\n",
       "16214     vocational rehabilitation supervisor   64765   55032.3449\n",
       "13276                              rec spec ii    3702   19372.4138\n",
       "15714                             tradeshelper   19467   44412.9629\n",
       "5013                dir healthcare pathways ct   56500   25758.8491\n",
       "83                            a/sec gv rl cn a   85347   57358.3662\n",
       "13382                             reg mats eng   91627  108141.0528\n",
       "537                        administrative asst   39882   47730.4246\n",
       "969                  assess mngr/chief examine   38292   75371.3834\n",
       "477               admin operations coordinator   55369   60643.1533\n",
       "2308            bridge & special projects supt  100282   78498.4899\n",
       "12238              policy asst director-wmsiii   35811   82165.8050\n",
       "15187               student prog/engagemnt dir   62000   52401.1155\n",
       "2923                  child care administrator   83352   64590.2943\n",
       "3987                         cowiche mill fire    1128   54938.6611\n",
       "4440                  dean technical education   83903   95044.3882\n",
       "10508                  managertech support srv   82576   57794.2226\n",
       "11894                     pbo gps data analyst   74088   51275.3938\n",
       "10735  mental health pract clinical specialist   60252   68588.1045\n",
       "6470                  electronics technician i   39337   53788.3548\n",
       "7444       fam computer assisted audit manager   77688   80564.0382\n",
       "10620                             med pg sp ii   43015   90777.9003\n",
       "13516                          res nat prg mgr   75100   86564.9253\n",
       "15696                            toss team mgr    2833   88856.8415\n",
       "6613           emsi production support manager   61296   85785.2311\n",
       "10601                   md - housing asst unit   83442   68489.6356\n",
       "15236             sum college visit tour staff     784   29374.9488\n",
       "7702                            fiscal manager   90150   79242.7250\n",
       "6664          energy extension program manager  121454   88420.5106\n",
       "3755                 coord-marketing-bookstore   46906   34695.7622\n",
       "\n",
       "[5026 rows x 3 columns]"
      ]
     },
     "execution_count": 168,
     "metadata": {},
     "output_type": "execute_result"
    }
   ],
   "source": [
    "df_test"
   ]
  },
  {
   "cell_type": "code",
   "execution_count": 169,
   "metadata": {},
   "outputs": [],
   "source": [
    "def show_results(scores):\n",
    "    scores_ = (-scores)  #**0.5\n",
    "    print(scores_)\n",
    "    print(\"Mean:\", scores_.mean())\n",
    "    print(\"Std:\", scores_.std()) \n",
    "    return scores_.mean()"
   ]
  },
  {
   "cell_type": "code",
   "execution_count": 170,
   "metadata": {},
   "outputs": [
    {
     "name": "stdout",
     "output_type": "stream",
     "text": [
      "MSE train: 724233853.6592717 \n",
      "MSE test: 1166335518.7516344 \n",
      "r2 train: 0.5614599934007974 \n",
      "r2 test: 0.12890561446019477 \n",
      "explaind var train: 0.5614599934007973 \n",
      "explaind var test: 0.13127534341787306\n"
     ]
    }
   ],
   "source": [
    "print('MSE train:',MSE(y_train, preds),\n",
    "    '\\nMSE test:',MSE(y_test, test_preds),\n",
    "    '\\nr2 train:',r2_score(y_train, preds),\n",
    "    '\\nr2 test:',r2_score(y_test, test_preds),\n",
    "    '\\nexplaind var train:',explained_variance_score(y_train, preds),\n",
    "    '\\nexplaind var test:',explained_variance_score(y_test, test_preds))"
   ]
  },
  {
   "cell_type": "code",
   "execution_count": 171,
   "metadata": {},
   "outputs": [
    {
     "name": "stdout",
     "output_type": "stream",
     "text": [
      "[-0.15998549  0.22387335 -0.17319498 -0.05120526  0.01348073  0.03280116\n",
      " -0.18589459 -0.12234881 -0.20543785 -0.13702125]\n",
      "Mean: -0.07649329814212984\n",
      "Std: 0.12711572503267135\n"
     ]
    },
    {
     "data": {
      "text/plain": [
       "-0.07649329814212984"
      ]
     },
     "execution_count": 171,
     "metadata": {},
     "output_type": "execute_result"
    }
   ],
   "source": [
    "scores = cross_val_score(LR, X_tf, y_train,  \n",
    "                         #scoring='mean_squared_error'  #'neg_mean_squared_error'\n",
    "                         cv=10)\n",
    "show_results(scores)"
   ]
  },
  {
   "cell_type": "code",
   "execution_count": 172,
   "metadata": {},
   "outputs": [
    {
     "name": "stdout",
     "output_type": "stream",
     "text": [
      "RMSE on test = 34151.65\n"
     ]
    }
   ],
   "source": [
    "test_rmse = np.sqrt(MSE(df_test['salary'], \n",
    "                       df_test['pred_salary']))\n",
    "print(\"RMSE on test = {:.2f}\".format(test_rmse))"
   ]
  },
  {
   "cell_type": "markdown",
   "metadata": {},
   "source": [
    "## Visualization"
   ]
  },
  {
   "cell_type": "code",
   "execution_count": 173,
   "metadata": {},
   "outputs": [
    {
     "data": {
      "image/png": "[encoded data removed]",
      "text/plain": [
       "<Figure size 432x288 with 1 Axes>"
      ]
     },
     "metadata": {
      "needs_background": "light"
     },
     "output_type": "display_data"
    }
   ],
   "source": [
    "# On train set\n",
    "df_train.plot(kind='scatter', x='salary', y='pred_salary', title='Salary Vs. Pred salary - on train set');"
   ]
  },
  {
   "cell_type": "code",
   "execution_count": 174,
   "metadata": {},
   "outputs": [
    {
     "data": {
      "image/png": "[encoded data removed]",
      "text/plain": [
       "<Figure size 432x288 with 1 Axes>"
      ]
     },
     "metadata": {
      "needs_background": "light"
     },
     "output_type": "display_data"
    }
   ],
   "source": [
    "# On test set\n",
    "df_test.plot(kind='scatter', x='salary', y='pred_salary',title='Salary Vs. Pred salary - on test set',color='g');"
   ]
  },
  {
   "cell_type": "code",
   "execution_count": 176,
   "metadata": {},
   "outputs": [
    {
     "data": {
      "image/png": "[encoded data removed]",
      "text/plain": [
       "<Figure size 576x360 with 1 Axes>"
      ]
     },
     "metadata": {
      "needs_background": "light"
     },
     "output_type": "display_data"
    }
   ],
   "source": [
    "plt.figure(figsize=(8,5))\n",
    "plt.scatter(df_train.pred_salary, df_train.pred_salary - y_train, c='blue', marker='o', label='Training data')\n",
    "plt.scatter(df_test.pred_salary, df_test.pred_salary - df_test.salary, c='orange', marker='*', label='Test data')\n",
    "plt.xlabel('Predicted values')\n",
    "plt.ylabel('Residuals')\n",
    "plt.legend(loc='upper left')\n",
    "\n",
    "plt.hlines(y=0, xmin=-5, xmax=45, lw=2, color='k')\n",
    "plt.title('Linear regression prediction residuals')\n",
    "plt.show()"
   ]
  },
  {
   "cell_type": "markdown",
   "metadata": {},
   "source": [
    "### &#10031;  Mean Absolute Error of the Linear Regression model"
   ]
  },
  {
   "cell_type": "code",
   "execution_count": 177,
   "metadata": {},
   "outputs": [
    {
     "name": "stdout",
     "output_type": "stream",
     "text": [
      "Linear Regression Performance on the train set: MAE = 13291.1859\n"
     ]
    }
   ],
   "source": [
    "LR_mae = mae(y_train, preds)\n",
    "print('Linear Regression Performance on the train set: MAE = %0.4f' % LR_mae)"
   ]
  },
  {
   "cell_type": "code",
   "execution_count": 178,
   "metadata": {},
   "outputs": [
    {
     "name": "stdout",
     "output_type": "stream",
     "text": [
      "Linear Regression Performance on the test set: MAE = 21991.7833\n"
     ]
    }
   ],
   "source": [
    "LR_test_mae = mae(y_test, test_preds)\n",
    "print('Linear Regression Performance on the test set: MAE = %0.4f' % LR_test_mae)"
   ]
  },
  {
   "cell_type": "markdown",
   "metadata": {},
   "source": [
    "\n",
    "## $ Random \\; Forest \\; Regression \\; model $  &#127794;&#127794;&#127794;"
   ]
  },
  {
   "cell_type": "code",
   "execution_count": 184,
   "metadata": {},
   "outputs": [],
   "source": [
    "RF = RandomForestRegressor(random_state=0)"
   ]
  },
  {
   "cell_type": "code",
   "execution_count": 185,
   "metadata": {},
   "outputs": [
    {
     "data": {
      "text/plain": [
       "GridSearchCV(cv=5, error_score='raise-deprecating',\n",
       "             estimator=RandomForestRegressor(bootstrap=True, criterion='mse',\n",
       "                                             max_depth=None,\n",
       "                                             max_features='auto',\n",
       "                                             max_leaf_nodes=None,\n",
       "                                             min_impurity_decrease=0.0,\n",
       "                                             min_impurity_split=None,\n",
       "                                             min_samples_leaf=1,\n",
       "                                             min_samples_split=2,\n",
       "                                             min_weight_fraction_leaf=0.0,\n",
       "                                             n_estimators='warn', n_jobs=None,\n",
       "                                             oob_score=False, random_state=0,\n",
       "                                             verbose=0, warm_start=False),\n",
       "             iid=False, n_jobs=None,\n",
       "             param_grid={'max_depth': [8, 10, 12, 14],\n",
       "                         'n_estimators': [7, 10, 12]},\n",
       "             pre_dispatch='2*n_jobs', refit=True, return_train_score=False,\n",
       "             scoring=None, verbose=0)"
      ]
     },
     "execution_count": 185,
     "metadata": {},
     "output_type": "execute_result"
    }
   ],
   "source": [
    "clf_rf = GridSearchCV(RF, \n",
    "                      param_grid={'max_depth': [8, 10, 12, 14],\n",
    "                                 'n_estimators': [7,10,12]},\n",
    "                      iid=False,\n",
    "                      cv=5)\n",
    "\n",
    "clf_rf.fit(X_tf, y_train)"
   ]
  },
  {
   "cell_type": "code",
   "execution_count": 186,
   "metadata": {},
   "outputs": [
    {
     "name": "stdout",
     "output_type": "stream",
     "text": [
      "Best estimator: RandomForestRegressor(bootstrap=True, criterion='mse', max_depth=12,\n",
      "                      max_features='auto', max_leaf_nodes=None,\n",
      "                      min_impurity_decrease=0.0, min_impurity_split=None,\n",
      "                      min_samples_leaf=1, min_samples_split=2,\n",
      "                      min_weight_fraction_leaf=0.0, n_estimators=10,\n",
      "                      n_jobs=None, oob_score=False, random_state=0, verbose=0,\n",
      "                      warm_start=False)\n",
      "Best params: {'max_depth': 12, 'n_estimators': 10}\n",
      "Best score: -0.009909882876902623\n"
     ]
    }
   ],
   "source": [
    "print (\"Best estimator:\", clf_rf.best_estimator_)\n",
    "print (\"Best params:\", clf_rf.best_params_)\n",
    "print (\"Best score:\", clf_rf.best_score_)"
   ]
  },
  {
   "cell_type": "code",
   "execution_count": 187,
   "metadata": {},
   "outputs": [
    {
     "data": {
      "text/plain": [
       "RandomForestRegressor(bootstrap=True, criterion='mse', max_depth=12,\n",
       "                      max_features='auto', max_leaf_nodes=None,\n",
       "                      min_impurity_decrease=0.0, min_impurity_split=None,\n",
       "                      min_samples_leaf=1, min_samples_split=2,\n",
       "                      min_weight_fraction_leaf=0.0, n_estimators=10,\n",
       "                      n_jobs=None, oob_score=False, random_state=0, verbose=0,\n",
       "                      warm_start=False)"
      ]
     },
     "execution_count": 187,
     "metadata": {},
     "output_type": "execute_result"
    }
   ],
   "source": [
    "RF = RandomForestRegressor(max_depth=12,n_estimators=10, random_state=0)\n",
    "RF.fit(X_tf, y_train)"
   ]
  },
  {
   "cell_type": "code",
   "execution_count": 188,
   "metadata": {},
   "outputs": [],
   "source": [
    "preds=RF.predict(X_tf)"
   ]
  },
  {
   "cell_type": "markdown",
   "metadata": {},
   "source": [
    "### &#10031;  Mean Absolute Error of the Random Forest Regressor "
   ]
  },
  {
   "cell_type": "code",
   "execution_count": 189,
   "metadata": {},
   "outputs": [
    {
     "name": "stdout",
     "output_type": "stream",
     "text": [
      "Random Forest Regression Performance on the Train set: MAE = 22885.1945\n"
     ]
    }
   ],
   "source": [
    "RF_mae = mae(y_train, preds)\n",
    "print('Random Forest Regression Performance on the Train set: MAE = %0.4f' % RF_mae)"
   ]
  },
  {
   "cell_type": "code",
   "execution_count": 190,
   "metadata": {},
   "outputs": [],
   "source": [
    "test_preds=RF.predict(Xtf_test)"
   ]
  },
  {
   "cell_type": "code",
   "execution_count": 191,
   "metadata": {},
   "outputs": [
    {
     "name": "stdout",
     "output_type": "stream",
     "text": [
      "Random Forest Regression Performance on the Test set: MAE = 23870.6597\n"
     ]
    }
   ],
   "source": [
    "RF_test_mae = mae(y_test, test_preds)\n",
    "print('Random Forest Regression Performance on the Test set: MAE = %0.4f' % RF_test_mae)"
   ]
  },
  {
   "cell_type": "markdown",
   "metadata": {},
   "source": [
    "## $ XGBoost \\;  $  &#9889;"
   ]
  },
  {
   "cell_type": "code",
   "execution_count": 192,
   "metadata": {},
   "outputs": [
    {
     "data": {
      "text/plain": [
       "XGBRegressor(base_score=0.5, booster='gbtree', colsample_bylevel=1,\n",
       "             colsample_bynode=1, colsample_bytree=1, gamma=0,\n",
       "             importance_type='gain', learning_rate=0.1, max_delta_step=0,\n",
       "             max_depth=3, min_child_weight=1, missing=None, n_estimators=100,\n",
       "             n_jobs=1, nthread=None, objective='reg:squarederror',\n",
       "             random_state=0, reg_alpha=0, reg_lambda=1, scale_pos_weight=1,\n",
       "             seed=None, silent=None, subsample=1, verbosity=1)"
      ]
     },
     "execution_count": 192,
     "metadata": {},
     "output_type": "execute_result"
    }
   ],
   "source": [
    "xgb_model = xgb.XGBRegressor(objective=\"reg:squarederror\", random_state=0)\n",
    "\n",
    "xgb_model.fit(X_tf, y_train)"
   ]
  },
  {
   "cell_type": "markdown",
   "metadata": {},
   "source": [
    "### &#10031;  Mean Absolute Error of the XGBoost Regressor model"
   ]
  },
  {
   "cell_type": "code",
   "execution_count": 193,
   "metadata": {},
   "outputs": [],
   "source": [
    "preds=xgb_model.predict(X_tf)"
   ]
  },
  {
   "cell_type": "code",
   "execution_count": 194,
   "metadata": {},
   "outputs": [
    {
     "name": "stdout",
     "output_type": "stream",
     "text": [
      "XGBoost Regressor Performance on the train set: MAE = 22252.5405\n"
     ]
    }
   ],
   "source": [
    "XG_mae = mae(y_train, preds)\n",
    "print('XGBoost Regressor Performance on the train set: MAE = %0.4f' % XG_mae)"
   ]
  },
  {
   "cell_type": "code",
   "execution_count": 195,
   "metadata": {},
   "outputs": [],
   "source": [
    "test_preds=xgb_model.predict(Xtf_test)"
   ]
  },
  {
   "cell_type": "code",
   "execution_count": 196,
   "metadata": {},
   "outputs": [
    {
     "name": "stdout",
     "output_type": "stream",
     "text": [
      "XGBoost Regressor Performance on the test set: MAE = 23271.4599\n"
     ]
    }
   ],
   "source": [
    "XG_test_mae = mae(y_test, test_preds)\n",
    "print('XGBoost Regressor Performance on the test set: MAE = %0.4f' % XG_test_mae)"
   ]
  },
  {
   "cell_type": "code",
   "execution_count": null,
   "metadata": {},
   "outputs": [],
   "source": []
  }
 ],
 "metadata": {
  "accelerator": "TPU",
  "colab": {
   "name": "ML_salary_by_name.ipynb",
   "provenance": [
    {
     "file_id": "1OfEjKzQyiD3xtLEdvWFaG0y8U7uXbhf6",
     "timestamp": 1568279466660
    }
   ],
   "version": "0.3.2"
  },
  "kernelspec": {
   "display_name": "Python 3",
   "language": "python",
   "name": "python3"
  },
  "language_info": {
   "codemirror_mode": {
    "name": "ipython",
    "version": 3
   },
   "file_extension": ".py",
   "mimetype": "text/x-python",
   "name": "python",
   "nbconvert_exporter": "python",
   "pygments_lexer": "ipython3",
   "version": "3.7.1"
  }
 },
 "nbformat": 4,
 "nbformat_minor": 1
}
